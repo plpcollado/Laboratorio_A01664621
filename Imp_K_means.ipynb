{
 "cells": [
  {
   "cell_type": "markdown",
   "metadata": {},
   "source": [
    "# Implementación de K-means\n",
    "\n",
    "## Implementa una función llamada distancia que reciba dos listas de números del mismo tamaño. Esta función deberá regresar el valor de la distancia euclidiana entre las dos listas."
   ]
  },
  {
   "cell_type": "code",
   "execution_count": 2,
   "metadata": {},
   "outputs": [
    {
     "name": "stdout",
     "output_type": "stream",
     "text": [
      "7.0710678118654755\n"
     ]
    }
   ],
   "source": [
    "#Creating the distance function for calculating the distance between to lists\n",
    "import math\n",
    "\n",
    "def dlist(l1, l2):\n",
    "    dist_euclid = math.sqrt((l2[0]-l1[0])**2+(l2[1]-l1[1])**2)\n",
    "    return dist_euclid\n",
    "\n",
    "lista1 = [1,2]\n",
    "lista2 = [6,7]\n",
    "\n",
    "print(dlist(lista1, lista2))"
   ]
  },
  {
   "cell_type": "markdown",
   "metadata": {},
   "source": [
    "## Crea una función llamada cercanos, la cual recibe una lista de listas llamada puntos y otra lista de k listas llamada centros. Crea una lista vacía y llénala con k listas vacías. Cada una de estas listas representa uno de los centros. Por cada punto, busca la distancia al centro más cercano y a grega el punto a la lista correspondiente. Regresa la lista con k listas, donde los elementos representan aquellos puntos más cercanos a cada centro."
   ]
  },
  {
   "cell_type": "code",
   "execution_count": 3,
   "metadata": {},
   "outputs": [
    {
     "name": "stdout",
     "output_type": "stream",
     "text": [
      "[[0], [1], [2, 3, 4, 5, 6, 7]]\n"
     ]
    }
   ],
   "source": [
    "import random\n",
    "\n",
    "# Creating a function cercanos that receives a list of points and a list of centers\n",
    "def cercanos(puntos, centros):\n",
    "    # Creating an empty list of lists\n",
    "    listas = []\n",
    "    # Creating a list of zeros of the length of the list of centers\n",
    "    for i in range(len(centros)):\n",
    "        listas.append([])\n",
    "    # Creating a for loop that iterates over the list of points\n",
    "    for i in range(len(puntos)):\n",
    "        # Creating an empty list\n",
    "        distancias = []\n",
    "        # Creating a for loop that iterates over the list of centers\n",
    "        for j in range(len(centros)):\n",
    "            # Appending the distance between the point and the center to the list\n",
    "            distancias.append(dlist(puntos[i],centros[j]))\n",
    "        # Appending the index of the minimum distance to the list of lists\n",
    "        listas[distancias.index(min(distancias))].append(i)\n",
    "    return listas\n",
    "\n",
    "# Creating a list of points\n",
    "puntos = [[1,2],[3,4],[5,6],[7,8],[9,10],[11,12],[13,14],[15,16]]\n",
    "# Creating a list of centers\n",
    "centros = [[1,2],[3,4],[5,6]]\n",
    "\n",
    "print(cercanos(puntos, centros))\n",
    "\n"
   ]
  },
  {
   "cell_type": "markdown",
   "metadata": {},
   "source": [
    "## Crea una función llamada centros, la cual recibe una lista de k listas. Por cada lista, obtén el promedio de todos los puntos y guárdalos. Estos puntos representan los nuevos centros. Regresa los nuevos centros."
   ]
  },
  {
   "cell_type": "code",
   "execution_count": null,
   "metadata": {},
   "outputs": [],
   "source": [
    "# Creating a function centros that receives a list of points and a list of lists\n",
    "def centros(puntos, listas):\n",
    "    # Creating an empty list\n",
    "    centros = []\n",
    "    # Creating a for loop that iterates over the list of lists\n",
    "    for i in range(len(listas)):\n",
    "        # Creating an empty list\n",
    "        centro = []\n",
    "        # Creating a for loop that iterates over the list of points\n",
    "        for j in range(len(puntos[0])):\n",
    "            # Creating an empty list\n",
    "            suma = []\n",
    "            # Creating a for loop that iterates over the list of indexes\n",
    "            for k in range(len(listas[i])):\n",
    "                # Appending the value of the point to the list\n",
    "                suma.append(puntos[listas[i][k]][j])\n",
    "            # Appending the mean of the list to the list\n",
    "            centro.append(sum(suma)/len(suma))\n",
    "        # Appending the list to the list\n",
    "        centros.append(centro)\n",
    "    return centros"
   ]
  },
  {
   "cell_type": "markdown",
   "metadata": {},
   "source": [
    "## Crea una función llamada k-means la cual recibe una lista de listas llamada puntos. Define un valor de k y selecciona k puntos aleatoriamente para ser los centros. Utilizando las funciones cercanos y centros, actualiza los centros 100 veces."
   ]
  },
  {
   "cell_type": "code",
   "execution_count": null,
   "metadata": {},
   "outputs": [],
   "source": [
    "# Creating a function k_means that receives a list of points and a number of clusters\n",
    "def k_means(puntos):\n",
    "    # Creating a list of random indexes\n",
    "    indexes = random.sample(range(len(puntos)),k)\n",
    "    # Creating an empty list\n",
    "    centros = []\n",
    "    # Creating a for loop that iterates over the list of indexes\n",
    "    for i in range(len(indexes)):\n",
    "        # Appending the point to the list\n",
    "        centros.append(puntos[indexes[i]])\n",
    "    # Creating a while loop that iterates until the list of lists of indexes is the same as the previous one\n",
    "    while True:\n",
    "        # Creating a list of lists of indexes\n",
    "        listas = cercanos(puntos, centros)\n",
    "        # Creating a list of lists of centers\n",
    "        centros2 = centros(puntos, listas)\n",
    "        # Creating an if statement that breaks the loop if the lists are the same\n",
    "        if centros == centros2:\n",
    "            break\n",
    "        # Creating an else statement that assigns the new list of lists to the old one\n",
    "        else:\n",
    "            centros = centros2\n",
    "    return listas\n"
   ]
  },
  {
   "cell_type": "markdown",
   "metadata": {},
   "source": [
    "## Utilizando sklear, carga k-means y utilizando la función fit obtén los centros. ¿Se parecen a los que obtuviste manualmente?"
   ]
  },
  {
   "cell_type": "code",
   "execution_count": null,
   "metadata": {},
   "outputs": [],
   "source": []
  }
 ],
 "metadata": {
  "kernelspec": {
   "display_name": "Python 3",
   "language": "python",
   "name": "python3"
  },
  "language_info": {
   "codemirror_mode": {
    "name": "ipython",
    "version": 3
   },
   "file_extension": ".py",
   "mimetype": "text/x-python",
   "name": "python",
   "nbconvert_exporter": "python",
   "pygments_lexer": "ipython3",
   "version": "3.9.1"
  },
  "orig_nbformat": 4
 },
 "nbformat": 4,
 "nbformat_minor": 2
}
